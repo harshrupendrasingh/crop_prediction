{
  "nbformat": 4,
  "nbformat_minor": 0,
  "metadata": {
    "colab": {
      "provenance": [],
      "authorship_tag": "ABX9TyN3BXUmNeczH36WlFaHkzkl",
      "include_colab_link": true
    },
    "kernelspec": {
      "name": "python3",
      "display_name": "Python 3"
    },
    "language_info": {
      "name": "python"
    }
  },
  "cells": [
    {
      "cell_type": "markdown",
      "metadata": {
        "id": "view-in-github",
        "colab_type": "text"
      },
      "source": [
        "<a href=\"https://colab.research.google.com/github/harshrupendrasingh/crop_prediction/blob/main/predict2.ipynb\" target=\"_parent\"><img src=\"https://colab.research.google.com/assets/colab-badge.svg\" alt=\"Open In Colab\"/></a>"
      ]
    },
    {
      "cell_type": "code",
      "execution_count": null,
      "metadata": {
        "id": "HxvwcoGGoBQQ"
      },
      "outputs": [],
      "source": [
        "import pandas as pd\n",
        "from sklearn.model_selection import train_test_split\n",
        "from sklearn.preprocessing import StandardScaler, OneHotEncoder\n",
        "from sklearn.compose import ColumnTransformer\n",
        "from sklearn.pipeline import Pipeline\n",
        "import torch\n",
        "import torch.nn as nn\n",
        "import torch.optim as optim\n",
        "import numpy as np"
      ]
    },
    {
      "cell_type": "code",
      "source": [
        "data_path = \"/content/combined_agriculture_data.csv\"\n",
        "df = pd.read_csv(data_path)\n",
        "\n",
        "print(\"Columns in DataFrame:\", df.columns)\n"
      ],
      "metadata": {
        "colab": {
          "base_uri": "https://localhost:8080/"
        },
        "id": "1TE-y5jOoGur",
        "outputId": "6c03de8e-48c9-4ea9-c2c1-065307569373"
      },
      "execution_count": null,
      "outputs": [
        {
          "output_type": "stream",
          "name": "stdout",
          "text": [
            "Columns in DataFrame: Index(['Date', 'Commodity', 'Location', 'Daily Price', 'Unit', 'Sowing Date',\n",
            "       'Harvest Date', 'Production (Tons)', 'Rainfall (mm)', 'Max Temp',\n",
            "       'Min Temp', 'Humidity (%)', 'Extreme Event', 'Festival/Holiday',\n",
            "       'Commodity Relevance', 'Sentiment Score', 'Key Event'],\n",
            "      dtype='object')\n"
          ]
        }
      ]
    },
    {
      "cell_type": "code",
      "source": [
        "df['Date'] = pd.to_datetime(df['Date'], errors='coerce')\n",
        "df['Sowing Date'] = pd.to_datetime(df['Sowing Date'], errors='coerce')\n",
        "df['Harvest Date'] = pd.to_datetime(df['Harvest Date'], errors='coerce')\n",
        "\n",
        "target = df['Daily Price']\n",
        "features = df.drop(columns=['Daily Price'])\n",
        "\n",
        "categorical_columns = ['Commodity', 'Location', 'Unit', 'Extreme Event', 'Festival/Holiday', 'Commodity Relevance', 'Sentiment Score', 'Key Event']\n",
        "date_columns = ['Date', 'Sowing Date', 'Harvest Date']"
      ],
      "metadata": {
        "id": "wcy0CCuWoQfO"
      },
      "execution_count": null,
      "outputs": []
    },
    {
      "cell_type": "code",
      "source": [
        "\n",
        "preprocessor = ColumnTransformer(\n",
        "    transformers=[\n",
        "        ('num', StandardScaler(), ['Production (Tons)', 'Rainfall (mm)', 'Max Temp', 'Min Temp', 'Humidity (%)']),\n",
        "        ('cat', OneHotEncoder(drop='first', handle_unknown='ignore'), categorical_columns)\n",
        "    ],\n",
        "    remainder='passthrough'\n",
        ")\n",
        "\n",
        "features_processed = preprocessor.fit_transform(features)"
      ],
      "metadata": {
        "id": "aCl1LBD8oYXw"
      },
      "execution_count": null,
      "outputs": []
    },
    {
      "cell_type": "code",
      "source": [
        "X_train, X_test, y_train, y_test = train_test_split(features_processed, target, test_size=0.2, random_state=42)\n",
        "\n",
        "X_train_tensor = torch.tensor(X_train, dtype=torch.float32)\n",
        "X_test_tensor = torch.tensor(X_test, dtype=torch.float32)\n",
        "y_train_tensor = torch.tensor(y_train.values, dtype=torch.float32).unsqueeze(1)\n",
        "y_test_tensor = torch.tensor(y_test.values, dtype=torch.float32).unsqueeze(1)"
      ],
      "metadata": {
        "id": "iizJTXQdodnw"
      },
      "execution_count": null,
      "outputs": []
    },
    {
      "cell_type": "code",
      "source": [
        "class FeedForwardNN(nn.Module):\n",
        "    def __init__(self, input_size, hidden_size, output_size):\n",
        "        super(FeedForwardNN, self).__init__()\n",
        "        self.fc1 = nn.Linear(input_size, hidden_size)\n",
        "        self.fc2 = nn.Linear(hidden_size, output_size)\n",
        "        self.relu = nn.ReLU()\n",
        "\n",
        "    def forward(self, x):\n",
        "        x = self.fc1(x)\n",
        "        x = self.relu(x)\n",
        "        x = self.fc2(x)\n",
        "        return x"
      ],
      "metadata": {
        "id": "U43GCCP2oiOb"
      },
      "execution_count": null,
      "outputs": []
    },
    {
      "cell_type": "code",
      "source": [
        "input_size = X_train_tensor.shape[1]\n",
        "hidden_size = 64\n",
        "output_size = 1\n",
        "model = FeedForwardNN(input_size, hidden_size, output_size)\n",
        "\n",
        "criterion = nn.MSELoss()\n",
        "optimizer = optim.Adam(model.parameters(), lr=0.001)"
      ],
      "metadata": {
        "id": "wQh_lL5holJP"
      },
      "execution_count": null,
      "outputs": []
    },
    {
      "cell_type": "code",
      "source": [
        "epochs = 100\n",
        "for epoch in range(epochs):\n",
        "    model.train()\n",
        "    optimizer.zero_grad()\n",
        "    outputs = model(X_train_tensor)\n",
        "    loss = criterion(outputs, y_train_tensor)\n",
        "    loss.backward()\n",
        "    optimizer.step()\n",
        "\n",
        "    if (epoch+1) % 10 == 0:\n",
        "        print(f'Epoch [{epoch+1}/{epochs}], Loss: {loss.item():.4f}')"
      ],
      "metadata": {
        "colab": {
          "base_uri": "https://localhost:8080/"
        },
        "id": "hyToLnPPosxy",
        "outputId": "591ce022-2abe-44b2-b58d-55796b055db1"
      },
      "execution_count": null,
      "outputs": [
        {
          "output_type": "stream",
          "name": "stdout",
          "text": [
            "Epoch [10/100], Loss: 14110.3398\n",
            "Epoch [20/100], Loss: 14054.0986\n",
            "Epoch [30/100], Loss: 13985.9697\n",
            "Epoch [40/100], Loss: 13900.1299\n",
            "Epoch [50/100], Loss: 13791.2910\n",
            "Epoch [60/100], Loss: 13655.0654\n",
            "Epoch [70/100], Loss: 13487.9658\n",
            "Epoch [80/100], Loss: 13287.7734\n",
            "Epoch [90/100], Loss: 13053.4297\n",
            "Epoch [100/100], Loss: 12784.8721\n"
          ]
        }
      ]
    },
    {
      "cell_type": "code",
      "source": [
        "def predict(input_data):\n",
        "    model.eval()\n",
        "    with torch.no_grad():\n",
        "        input_df = pd.DataFrame([input_data], columns=['Date', 'Commodity', 'Location', 'Unit', 'Sowing Date', 'Harvest Date', 'Production (Tons)', 'Rainfall (mm)', 'Max Temp', 'Min Temp', 'Humidity (%)', 'Extreme Event', 'Festival/Holiday', 'Commodity Relevance', 'Sentiment Score', 'Key Event'])\n",
        "        input_df['Date'] = pd.to_datetime(input_df['Date'], errors='coerce')\n",
        "        input_df['Sowing Date'] = pd.to_datetime(input_df['Sowing Date'], errors='coerce')\n",
        "        input_df['Harvest Date'] = pd.to_datetime(input_df['Harvest Date'], errors='coerce')\n",
        "\n",
        "        input_features = input_df.drop(columns=date_columns)\n",
        "        input_processed = preprocessor.transform(input_features)\n",
        "        input_tensor = torch.tensor(input_processed, dtype=torch.float32)\n",
        "\n",
        "        predictions = model(input_tensor)\n",
        "        return predictions.numpy()"
      ],
      "metadata": {
        "id": "2vw2yqW3o2by"
      },
      "execution_count": null,
      "outputs": []
    },
    {
      "cell_type": "code",
      "source": [
        "input_data = {\n",
        "    'Date': '2022-04-11',\n",
        "    'Commodity': 'gram',\n",
        "    'Location': 'Mumbai',\n",
        "    'Unit': 'kg',\n",
        "    'Sowing Date': '2015-05-14',\n",
        "    'Harvest Date': '2015-09-09',\n",
        "    'Production (Tons)': 20580.85,\n",
        "    'Rainfall (mm)': 141.61,\n",
        "    'Max Temp': 26.23,\n",
        "    'Min Temp': 22.52,\n",
        "    'Humidity (%)': 54.22,\n",
        "    'Extreme Event': 'None',\n",
        "    'Festival/Holiday': 'Holi',\n",
        "    'Commodity Relevance': 'gram',\n",
        "    'Sentiment Score': 'Neutral',\n",
        "    'Key Event': 'Government Policy'\n",
        "}"
      ],
      "metadata": {
        "id": "4yTJae5bo5Iy"
      },
      "execution_count": null,
      "outputs": []
    },
    {
      "cell_type": "code",
      "source": [
        "prediction = predict(input_data)\n",
        "print(\"Prediction:\", prediction)"
      ],
      "metadata": {
        "colab": {
          "base_uri": "https://localhost:8080/"
        },
        "id": "tR0pLU5wpal8",
        "outputId": "fa59aa8e-eef9-4739-84dd-73325e2ae1a5"
      },
      "execution_count": null,
      "outputs": [
        {
          "output_type": "stream",
          "name": "stdout",
          "text": [
            "Prediction: [[5.297532]]\n"
          ]
        },
        {
          "output_type": "stream",
          "name": "stderr",
          "text": [
            "/usr/local/lib/python3.10/dist-packages/sklearn/preprocessing/_encoders.py:228: UserWarning: Found unknown categories in columns [3] during transform. These unknown categories will be encoded as all zeros\n",
            "  warnings.warn(\n"
          ]
        }
      ]
    }
  ]
}